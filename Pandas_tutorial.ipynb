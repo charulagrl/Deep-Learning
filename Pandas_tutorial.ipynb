{
 "cells": [
  {
   "cell_type": "code",
   "execution_count": 1,
   "metadata": {
    "collapsed": true
   },
   "outputs": [],
   "source": [
    "# Importing pandas, numpy, matplotlib\n",
    "\n",
    "import numpy as np\n",
    "import pandas as pd\n",
    "import matplotlib.pyplot as plt"
   ]
  },
  {
   "cell_type": "code",
   "execution_count": 3,
   "metadata": {
    "collapsed": false
   },
   "outputs": [
    {
     "name": "stdout",
     "output_type": "stream",
     "text": [
      "0    1.0\n",
      "1    4.0\n",
      "2    5.0\n",
      "3    NaN\n",
      "4    0.0\n",
      "5    6.0\n",
      "dtype: float64\n"
     ]
    }
   ],
   "source": [
    "# Object Creation \n",
    "\n",
    "# Creating a pandas series by passing it values\n",
    "s = pd.Series([1, 4, 5, np.nan, 0, 6])\n",
    "print (s)"
   ]
  },
  {
   "cell_type": "code",
   "execution_count": 18,
   "metadata": {
    "collapsed": false
   },
   "outputs": [
    {
     "data": {
      "text/html": [
       "<div>\n",
       "<table border=\"1\" class=\"dataframe\">\n",
       "  <thead>\n",
       "    <tr style=\"text-align: right;\">\n",
       "      <th></th>\n",
       "      <th>0</th>\n",
       "      <th>1</th>\n",
       "      <th>2</th>\n",
       "      <th>3</th>\n",
       "    </tr>\n",
       "  </thead>\n",
       "  <tbody>\n",
       "    <tr>\n",
       "      <th>0</th>\n",
       "      <td>-0.567966</td>\n",
       "      <td>-0.731352</td>\n",
       "      <td>1.110119</td>\n",
       "      <td>1.140822</td>\n",
       "    </tr>\n",
       "    <tr>\n",
       "      <th>1</th>\n",
       "      <td>-0.820889</td>\n",
       "      <td>-0.525868</td>\n",
       "      <td>0.269783</td>\n",
       "      <td>1.288772</td>\n",
       "    </tr>\n",
       "    <tr>\n",
       "      <th>2</th>\n",
       "      <td>0.686134</td>\n",
       "      <td>-0.690563</td>\n",
       "      <td>-1.364859</td>\n",
       "      <td>0.636510</td>\n",
       "    </tr>\n",
       "    <tr>\n",
       "      <th>3</th>\n",
       "      <td>0.536785</td>\n",
       "      <td>-1.244897</td>\n",
       "      <td>-0.271328</td>\n",
       "      <td>1.165742</td>\n",
       "    </tr>\n",
       "    <tr>\n",
       "      <th>4</th>\n",
       "      <td>0.374095</td>\n",
       "      <td>-0.560167</td>\n",
       "      <td>-1.648515</td>\n",
       "      <td>0.566331</td>\n",
       "    </tr>\n",
       "  </tbody>\n",
       "</table>\n",
       "</div>"
      ],
      "text/plain": [
       "          0         1         2         3\n",
       "0 -0.567966 -0.731352  1.110119  1.140822\n",
       "1 -0.820889 -0.525868  0.269783  1.288772\n",
       "2  0.686134 -0.690563 -1.364859  0.636510\n",
       "3  0.536785 -1.244897 -0.271328  1.165742\n",
       "4  0.374095 -0.560167 -1.648515  0.566331"
      ]
     },
     "execution_count": 18,
     "metadata": {},
     "output_type": "execute_result"
    }
   ],
   "source": [
    "# Creating pandas Dataframes which is 2 dimensional tabular data structure with axis as labelled\n",
    "\n",
    "# Create a Dataframe of dimension (5*4) with random values\n",
    "df = pd.DataFrame(np.random.randn(5, 4))\n",
    "\n",
    "df"
   ]
  },
  {
   "cell_type": "code",
   "execution_count": 19,
   "metadata": {
    "collapsed": false
   },
   "outputs": [
    {
     "data": {
      "text/html": [
       "<div>\n",
       "<table border=\"1\" class=\"dataframe\">\n",
       "  <thead>\n",
       "    <tr style=\"text-align: right;\">\n",
       "      <th></th>\n",
       "      <th>a</th>\n",
       "      <th>b</th>\n",
       "      <th>c</th>\n",
       "      <th>d</th>\n",
       "    </tr>\n",
       "  </thead>\n",
       "  <tbody>\n",
       "    <tr>\n",
       "      <th>0</th>\n",
       "      <td>-0.364783</td>\n",
       "      <td>-0.292649</td>\n",
       "      <td>-0.125805</td>\n",
       "      <td>0.369628</td>\n",
       "    </tr>\n",
       "    <tr>\n",
       "      <th>1</th>\n",
       "      <td>-0.170499</td>\n",
       "      <td>-0.003765</td>\n",
       "      <td>0.256173</td>\n",
       "      <td>-1.102150</td>\n",
       "    </tr>\n",
       "    <tr>\n",
       "      <th>2</th>\n",
       "      <td>-1.047593</td>\n",
       "      <td>0.594369</td>\n",
       "      <td>0.049334</td>\n",
       "      <td>-0.906129</td>\n",
       "    </tr>\n",
       "    <tr>\n",
       "      <th>3</th>\n",
       "      <td>-1.364403</td>\n",
       "      <td>0.848898</td>\n",
       "      <td>1.142123</td>\n",
       "      <td>-0.400375</td>\n",
       "    </tr>\n",
       "    <tr>\n",
       "      <th>4</th>\n",
       "      <td>1.049768</td>\n",
       "      <td>2.009491</td>\n",
       "      <td>0.727251</td>\n",
       "      <td>0.204217</td>\n",
       "    </tr>\n",
       "  </tbody>\n",
       "</table>\n",
       "</div>"
      ],
      "text/plain": [
       "          a         b         c         d\n",
       "0 -0.364783 -0.292649 -0.125805  0.369628\n",
       "1 -0.170499 -0.003765  0.256173 -1.102150\n",
       "2 -1.047593  0.594369  0.049334 -0.906129\n",
       "3 -1.364403  0.848898  1.142123 -0.400375\n",
       "4  1.049768  2.009491  0.727251  0.204217"
      ]
     },
     "execution_count": 19,
     "metadata": {},
     "output_type": "execute_result"
    }
   ],
   "source": [
    "# Creating a dataframe of dimension (5*4) with random values and column names given as parameter\n",
    "df = pd.DataFrame(np.random.randn(5, 4), columns=[\"a\", \"b\", \"c\", \"d\"])\n",
    "\n",
    "df"
   ]
  },
  {
   "cell_type": "code",
   "execution_count": 20,
   "metadata": {
    "collapsed": false
   },
   "outputs": [
    {
     "data": {
      "text/plain": [
       "DatetimeIndex(['2013-03-12', '2013-03-13', '2013-03-14', '2013-03-15',\n",
       "               '2013-03-16', '2013-03-17', '2013-03-18', '2013-03-19'],\n",
       "              dtype='datetime64[ns]', freq='D')"
      ]
     },
     "execution_count": 20,
     "metadata": {},
     "output_type": "execute_result"
    }
   ],
   "source": [
    "# Creating a list of dates starting from `2013-03-12`. \n",
    "dates = pd.date_range(\"20130312\", periods=8)\n",
    "dates"
   ]
  },
  {
   "cell_type": "code",
   "execution_count": 22,
   "metadata": {
    "collapsed": false
   },
   "outputs": [
    {
     "data": {
      "text/html": [
       "<div>\n",
       "<table border=\"1\" class=\"dataframe\">\n",
       "  <thead>\n",
       "    <tr style=\"text-align: right;\">\n",
       "      <th></th>\n",
       "      <th>A</th>\n",
       "      <th>B</th>\n",
       "      <th>C</th>\n",
       "      <th>D</th>\n",
       "    </tr>\n",
       "  </thead>\n",
       "  <tbody>\n",
       "    <tr>\n",
       "      <th>2013-03-12</th>\n",
       "      <td>-0.200288</td>\n",
       "      <td>-2.345650</td>\n",
       "      <td>0.199257</td>\n",
       "      <td>0.495598</td>\n",
       "    </tr>\n",
       "    <tr>\n",
       "      <th>2013-03-13</th>\n",
       "      <td>-1.424278</td>\n",
       "      <td>-0.830500</td>\n",
       "      <td>0.144725</td>\n",
       "      <td>-0.526709</td>\n",
       "    </tr>\n",
       "    <tr>\n",
       "      <th>2013-03-14</th>\n",
       "      <td>1.344977</td>\n",
       "      <td>0.268884</td>\n",
       "      <td>0.415231</td>\n",
       "      <td>-0.077826</td>\n",
       "    </tr>\n",
       "    <tr>\n",
       "      <th>2013-03-15</th>\n",
       "      <td>-1.535860</td>\n",
       "      <td>-0.458791</td>\n",
       "      <td>0.355597</td>\n",
       "      <td>0.688817</td>\n",
       "    </tr>\n",
       "    <tr>\n",
       "      <th>2013-03-16</th>\n",
       "      <td>-1.594948</td>\n",
       "      <td>2.591793</td>\n",
       "      <td>-0.940239</td>\n",
       "      <td>-0.457441</td>\n",
       "    </tr>\n",
       "    <tr>\n",
       "      <th>2013-03-17</th>\n",
       "      <td>-2.342706</td>\n",
       "      <td>-0.664124</td>\n",
       "      <td>-0.564183</td>\n",
       "      <td>0.893513</td>\n",
       "    </tr>\n",
       "    <tr>\n",
       "      <th>2013-03-18</th>\n",
       "      <td>-0.790811</td>\n",
       "      <td>0.445447</td>\n",
       "      <td>0.010357</td>\n",
       "      <td>-1.113932</td>\n",
       "    </tr>\n",
       "    <tr>\n",
       "      <th>2013-03-19</th>\n",
       "      <td>-0.260569</td>\n",
       "      <td>0.260448</td>\n",
       "      <td>-0.976491</td>\n",
       "      <td>1.354920</td>\n",
       "    </tr>\n",
       "  </tbody>\n",
       "</table>\n",
       "</div>"
      ],
      "text/plain": [
       "                   A         B         C         D\n",
       "2013-03-12 -0.200288 -2.345650  0.199257  0.495598\n",
       "2013-03-13 -1.424278 -0.830500  0.144725 -0.526709\n",
       "2013-03-14  1.344977  0.268884  0.415231 -0.077826\n",
       "2013-03-15 -1.535860 -0.458791  0.355597  0.688817\n",
       "2013-03-16 -1.594948  2.591793 -0.940239 -0.457441\n",
       "2013-03-17 -2.342706 -0.664124 -0.564183  0.893513\n",
       "2013-03-18 -0.790811  0.445447  0.010357 -1.113932\n",
       "2013-03-19 -0.260569  0.260448 -0.976491  1.354920"
      ]
     },
     "execution_count": 22,
     "metadata": {},
     "output_type": "execute_result"
    }
   ],
   "source": [
    "df = pd.DataFrame(np.random.randn(8, 4), index=dates, columns=list('ABCD'))\n",
    "\n",
    "df"
   ]
  },
  {
   "cell_type": "code",
   "execution_count": 36,
   "metadata": {
    "collapsed": false
   },
   "outputs": [
    {
     "data": {
      "text/html": [
       "<div>\n",
       "<table border=\"1\" class=\"dataframe\">\n",
       "  <thead>\n",
       "    <tr style=\"text-align: right;\">\n",
       "      <th></th>\n",
       "      <th>A</th>\n",
       "      <th>B</th>\n",
       "      <th>C</th>\n",
       "      <th>D</th>\n",
       "      <th>E</th>\n",
       "      <th>F</th>\n",
       "      <th>G</th>\n",
       "    </tr>\n",
       "  </thead>\n",
       "  <tbody>\n",
       "    <tr>\n",
       "      <th>0</th>\n",
       "      <td>5</td>\n",
       "      <td>2014-05-22</td>\n",
       "      <td>2</td>\n",
       "      <td>-0.039217</td>\n",
       "      <td>foo</td>\n",
       "      <td>aaa</td>\n",
       "      <td>3</td>\n",
       "    </tr>\n",
       "    <tr>\n",
       "      <th>1</th>\n",
       "      <td>5</td>\n",
       "      <td>2014-05-22</td>\n",
       "      <td>3</td>\n",
       "      <td>0.089291</td>\n",
       "      <td>foo</td>\n",
       "      <td>bbb</td>\n",
       "      <td>3</td>\n",
       "    </tr>\n",
       "    <tr>\n",
       "      <th>2</th>\n",
       "      <td>5</td>\n",
       "      <td>2014-05-22</td>\n",
       "      <td>4</td>\n",
       "      <td>0.966860</td>\n",
       "      <td>foo</td>\n",
       "      <td>ccc</td>\n",
       "      <td>3</td>\n",
       "    </tr>\n",
       "    <tr>\n",
       "      <th>3</th>\n",
       "      <td>5</td>\n",
       "      <td>2014-05-22</td>\n",
       "      <td>5</td>\n",
       "      <td>-0.249424</td>\n",
       "      <td>foo</td>\n",
       "      <td>ddd</td>\n",
       "      <td>3</td>\n",
       "    </tr>\n",
       "  </tbody>\n",
       "</table>\n",
       "</div>"
      ],
      "text/plain": [
       "   A          B  C         D    E    F  G\n",
       "0  5 2014-05-22  2 -0.039217  foo  aaa  3\n",
       "1  5 2014-05-22  3  0.089291  foo  bbb  3\n",
       "2  5 2014-05-22  4  0.966860  foo  ccc  3\n",
       "3  5 2014-05-22  5 -0.249424  foo  ddd  3"
      ]
     },
     "execution_count": 36,
     "metadata": {},
     "output_type": "execute_result"
    }
   ],
   "source": [
    "# Creating a dataframe by passing dict of objects which can converted to series type\n",
    "\n",
    "df1 = pd.DataFrame({ 'A': 5, \n",
    "                     'B': pd.Timestamp('20140522'),\n",
    "                     'C': np.array([2, 3, 4, 5]), \n",
    "                     'D': pd.Series(np.random.randn(4), dtype='float32'),\n",
    "                     'E': 'foo',\n",
    "                     'F': pd.Categorical(['aaa', 'bbb', 'ccc', 'ddd']),\n",
    "                     'G': np.array([3]*4, dtype='int32')})\n",
    "df1"
   ]
  },
  {
   "cell_type": "code",
   "execution_count": 37,
   "metadata": {
    "collapsed": false
   },
   "outputs": [
    {
     "data": {
      "text/plain": [
       "A             int64\n",
       "B    datetime64[ns]\n",
       "C             int64\n",
       "D           float32\n",
       "E            object\n",
       "F          category\n",
       "G             int32\n",
       "dtype: object"
      ]
     },
     "execution_count": 37,
     "metadata": {},
     "output_type": "execute_result"
    }
   ],
   "source": [
    "# Printing the datatype sof each column\n",
    "df1.dtypes"
   ]
  }
 ],
 "metadata": {
  "kernelspec": {
   "display_name": "Python 3",
   "language": "python",
   "name": "python3"
  },
  "language_info": {
   "codemirror_mode": {
    "name": "ipython",
    "version": 3
   },
   "file_extension": ".py",
   "mimetype": "text/x-python",
   "name": "python",
   "nbconvert_exporter": "python",
   "pygments_lexer": "ipython3",
   "version": "3.6.0"
  }
 },
 "nbformat": 4,
 "nbformat_minor": 2
}
